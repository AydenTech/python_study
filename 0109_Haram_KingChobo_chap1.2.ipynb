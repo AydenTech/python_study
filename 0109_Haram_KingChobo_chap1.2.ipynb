{
 "cells": [
  {
   "cell_type": "code",
   "execution_count": 3,
   "id": "1c46254b",
   "metadata": {
    "pycharm": {
     "name": "#%%\n"
    }
   },
   "outputs": [
    {
     "name": "stdout",
     "output_type": "stream",
     "text": [
      "100300\n",
      "4250.0\n",
      "crimson heart\n"
     ]
    }
   ],
   "source": [
    "## 왕초보파이썬 chap1.2 변수\n",
    "import sys\n",
    "watch = 100000\n",
    "lighter = 300\n",
    "a = watch + lighter\n",
    "print(a)\n",
    "\n",
    "\n",
    "price = 5000\n",
    "price *= 0.85\n",
    "print(price)\n",
    "\n",
    "a = 'crimson'\n",
    "b = 'heart'\n",
    "print(a+' '+b)\n",
    "\n"
   ]
  },
  {
   "cell_type": "code",
   "execution_count": 4,
   "id": "061c778f",
   "metadata": {
    "pycharm": {
     "name": "#%%\n"
    }
   },
   "outputs": [],
   "source": [
    "## practice problem 1.2.1\n",
    "## download average speed r, time t, size rt\n",
    "## if r = 800 kB/s, t = 110 s, then size = ? MB\n",
    "r = 800\n",
    "t = 110\n",
    "s = 0.001*r*t\n",
    "\n"
   ]
  },
  {
   "cell_type": "code",
   "execution_count": 5,
   "id": "265157d5",
   "metadata": {
    "pycharm": {
     "name": "#%%\n"
    }
   },
   "outputs": [
    {
     "name": "stdout",
     "output_type": "stream",
     "text": [
      "88.0 MB\n",
      "88.0 MB\n",
      "88.0 MB\n",
      "4\n",
      "H\n",
      "Y\n"
     ]
    }
   ],
   "source": [
    "# 문자열 포맷팅\n",
    "print(str(s) + ' MB')\n",
    "# int + str\n",
    "print(f'{s} MB')\n",
    "# f'{변수}, 고정된문자'\n",
    "print(\"%s MB\" % s)\n",
    "\n",
    "## 1.3 List\n",
    "family = ['mom', 'dad', 'H', 'Y']\n",
    "print(len(family))\n",
    "print(family[2])\n",
    "\n",
    "family.remove('H')\n",
    "print(family[2])\n",
    "# H가 제외되어 Y가 출력됨\n"
   ]
  }
 ],
 "metadata": {
  "kernelspec": {
   "display_name": "Python 3 (ipykernel)",
   "language": "python",
   "name": "python3"
  },
  "language_info": {
   "codemirror_mode": {
    "name": "ipython",
    "version": 3
   },
   "file_extension": ".py",
   "mimetype": "text/x-python",
   "name": "python",
   "nbconvert_exporter": "python",
   "pygments_lexer": "ipython3",
   "version": "3.7.9"
  }
 },
 "nbformat": 4,
 "nbformat_minor": 5
}